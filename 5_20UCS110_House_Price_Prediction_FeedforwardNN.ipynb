{
  "nbformat": 4,
  "nbformat_minor": 0,
  "metadata": {
    "colab": {
      "provenance": []
    },
    "kernelspec": {
      "name": "python3",
      "display_name": "Python 3"
    },
    "language_info": {
      "name": "python"
    }
  },
  "cells": [
    {
      "cell_type": "code",
      "execution_count": null,
      "metadata": {
        "id": "GhCay0pw2yIJ"
      },
      "outputs": [],
      "source": [
        "import tensorflow as tf\n",
        "from tensorflow.keras.datasets import boston_housing\n",
        "from sklearn import preprocessing"
      ]
    },
    {
      "cell_type": "code",
      "source": [
        "#Loading of Dataset(npz: numpy zip)\n",
        "(x_train,y_train),(x_test,y_test) = boston_housing.load_data()"
      ],
      "metadata": {
        "colab": {
          "base_uri": "https://localhost:8080/"
        },
        "id": "gwigpyf-3J19",
        "outputId": "26430cf9-6f66-4bbd-a7ae-2801c8222d06"
      },
      "execution_count": null,
      "outputs": [
        {
          "output_type": "stream",
          "name": "stdout",
          "text": [
            "Downloading data from https://storage.googleapis.com/tensorflow/tf-keras-datasets/boston_housing.npz\n",
            "57026/57026 [==============================] - 0s 0us/step\n"
          ]
        }
      ]
    },
    {
      "cell_type": "code",
      "source": [
        "print(\"Train Shape(records, features): \",x_train.shape)\n",
        "print(\"Test Shape(records, features): \",x_test.shape)\n",
        "print(\"Actual Train output: \",y_train.shape)\n",
        "print(\"Actual test output: \",y_test.shape)"
      ],
      "metadata": {
        "colab": {
          "base_uri": "https://localhost:8080/"
        },
        "id": "WDEjsiEV3Xs_",
        "outputId": "9849797d-1c16-4bbb-91b0-385bb1335525"
      },
      "execution_count": null,
      "outputs": [
        {
          "output_type": "stream",
          "name": "stdout",
          "text": [
            "Train Shape(records, features):  (404, 13)\n",
            "Test Shape(records, features):  (102, 13)\n",
            "Actual Train output:  (404,)\n",
            "Actual test output:  (102,)\n"
          ]
        }
      ]
    },
    {
      "cell_type": "code",
      "source": [
        "x_train[0]"
      ],
      "metadata": {
        "colab": {
          "base_uri": "https://localhost:8080/"
        },
        "id": "b8vWEq9A4Jtv",
        "outputId": "2544395c-bd6d-48d0-b9a2-f670cd3b723b"
      },
      "execution_count": null,
      "outputs": [
        {
          "output_type": "execute_result",
          "data": {
            "text/plain": [
              "array([  1.23247,   0.     ,   8.14   ,   0.     ,   0.538  ,   6.142  ,\n",
              "        91.7    ,   3.9769 ,   4.     , 307.     ,  21.     , 396.9    ,\n",
              "        18.72   ])"
            ]
          },
          "metadata": {},
          "execution_count": 8
        }
      ]
    },
    {
      "cell_type": "code",
      "source": [
        "y_train[0]"
      ],
      "metadata": {
        "colab": {
          "base_uri": "https://localhost:8080/"
        },
        "id": "RsOqlnpq4MXj",
        "outputId": "2ab05b0c-4782-4157-cb19-3d93f85210a9"
      },
      "execution_count": null,
      "outputs": [
        {
          "output_type": "execute_result",
          "data": {
            "text/plain": [
              "15.2"
            ]
          },
          "metadata": {},
          "execution_count": 9
        }
      ]
    },
    {
      "cell_type": "code",
      "source": [
        "#Normalization using preprocessing module\n",
        "x_train=preprocessing.normalize(x_train)\n",
        "x_test=preprocessing.normalize(x_test)"
      ],
      "metadata": {
        "id": "5jdbkM-R4OjX"
      },
      "execution_count": null,
      "outputs": []
    },
    {
      "cell_type": "code",
      "source": [
        "x_train[0]"
      ],
      "metadata": {
        "colab": {
          "base_uri": "https://localhost:8080/"
        },
        "id": "tQCvHJRT4hfm",
        "outputId": "ae117aee-47c1-47c5-edba-246af4b30f56"
      },
      "execution_count": null,
      "outputs": [
        {
          "output_type": "execute_result",
          "data": {
            "text/plain": [
              "array([0.0024119 , 0.        , 0.01592969, 0.        , 0.00105285,\n",
              "       0.01201967, 0.17945359, 0.00778265, 0.00782786, 0.6007879 ,\n",
              "       0.04109624, 0.77671895, 0.03663436])"
            ]
          },
          "metadata": {},
          "execution_count": 11
        }
      ]
    },
    {
      "cell_type": "code",
      "source": [
        "y_train[0]"
      ],
      "metadata": {
        "colab": {
          "base_uri": "https://localhost:8080/"
        },
        "id": "sM7AjWTB4ki2",
        "outputId": "32a11431-f5db-422b-d13d-b797adea6a16"
      },
      "execution_count": null,
      "outputs": [
        {
          "output_type": "execute_result",
          "data": {
            "text/plain": [
              "15.2"
            ]
          },
          "metadata": {},
          "execution_count": 12
        }
      ]
    },
    {
      "cell_type": "code",
      "source": [
        "from tensorflow.keras.models import Sequential\n",
        "from tensorflow.keras.layers import *"
      ],
      "metadata": {
        "id": "7IrBTXOg4mv6"
      },
      "execution_count": null,
      "outputs": []
    },
    {
      "cell_type": "code",
      "source": [
        "def HousePricePredictionModel():\n",
        "  #sequential model: layers one after another\n",
        "  model = Sequential()\n",
        "  #128 neurons with relu\n",
        "  model.add(Dense(128,activation='relu',input_shape=(x_train[0].shape)))\n",
        "  #64 neurons with relu\n",
        "  model.add(Dense(64,activation='relu'))\n",
        "  #32 neurons with relu\n",
        "  model.add(Dense(32,activation='relu'))\n",
        "  #Output: to identify price\n",
        "  model.add(Dense(1))\n",
        "  #rmsprop: derivativve of loss fn(mean squared error)\n",
        "  model.compile(optimizer='rmsprop',loss='mse',metrics=['mae'])\n",
        "  return model"
      ],
      "metadata": {
        "id": "gNaqAYfB45zc"
      },
      "execution_count": null,
      "outputs": []
    },
    {
      "cell_type": "code",
      "source": [
        "import numpy as np\n",
        "k=4\n",
        "num_val_samples = len(y_train)\n",
        "num_epochs = 100\n",
        "all_scores = []"
      ],
      "metadata": {
        "id": "zuTZjrP16D8_"
      },
      "execution_count": null,
      "outputs": []
    },
    {
      "cell_type": "code",
      "source": [
        "model = HousePricePredictionModel()\n",
        "history=model.fit(x=x_train, y=y_train ,epochs=num_epochs, batch_size=1, verbose=1, validation_data=(x_test,y_test))"
      ],
      "metadata": {
        "colab": {
          "base_uri": "https://localhost:8080/"
        },
        "id": "7ERY4tB8731H",
        "outputId": "b7c47caa-748a-406e-f42b-fa659f515ed2"
      },
      "execution_count": null,
      "outputs": [
        {
          "output_type": "stream",
          "name": "stdout",
          "text": [
            "Epoch 1/100\n",
            "404/404 [==============================] - 1s 2ms/step - loss: 119.9486 - mae: 7.7205 - val_loss: 66.7578 - val_mae: 5.8140\n",
            "Epoch 2/100\n",
            "404/404 [==============================] - 1s 2ms/step - loss: 66.3749 - mae: 5.6307 - val_loss: 59.8836 - val_mae: 5.9361\n",
            "Epoch 3/100\n",
            "404/404 [==============================] - 1s 2ms/step - loss: 63.9714 - mae: 5.5286 - val_loss: 54.8368 - val_mae: 5.5453\n",
            "Epoch 4/100\n",
            "404/404 [==============================] - 1s 3ms/step - loss: 60.6068 - mae: 5.3282 - val_loss: 59.5558 - val_mae: 5.5134\n",
            "Epoch 5/100\n",
            "404/404 [==============================] - 1s 3ms/step - loss: 57.5738 - mae: 5.1590 - val_loss: 53.0821 - val_mae: 5.4146\n",
            "Epoch 6/100\n",
            "404/404 [==============================] - 1s 2ms/step - loss: 56.1474 - mae: 5.0951 - val_loss: 54.4673 - val_mae: 5.2600\n",
            "Epoch 7/100\n",
            "404/404 [==============================] - 1s 2ms/step - loss: 53.9644 - mae: 5.0030 - val_loss: 51.6634 - val_mae: 5.1203\n",
            "Epoch 8/100\n",
            "404/404 [==============================] - 1s 2ms/step - loss: 53.3756 - mae: 4.9338 - val_loss: 48.4729 - val_mae: 5.0493\n",
            "Epoch 9/100\n",
            "404/404 [==============================] - 1s 2ms/step - loss: 51.4144 - mae: 4.9031 - val_loss: 59.8426 - val_mae: 5.4485\n",
            "Epoch 10/100\n",
            "404/404 [==============================] - 1s 2ms/step - loss: 49.3070 - mae: 4.7718 - val_loss: 53.8151 - val_mae: 5.1016\n",
            "Epoch 11/100\n",
            "404/404 [==============================] - 1s 2ms/step - loss: 47.6403 - mae: 4.6060 - val_loss: 58.0890 - val_mae: 6.2244\n",
            "Epoch 12/100\n",
            "404/404 [==============================] - 1s 2ms/step - loss: 44.6451 - mae: 4.6256 - val_loss: 43.9006 - val_mae: 4.5893\n",
            "Epoch 13/100\n",
            "404/404 [==============================] - 1s 2ms/step - loss: 43.1580 - mae: 4.5883 - val_loss: 48.2928 - val_mae: 4.8002\n",
            "Epoch 14/100\n",
            "404/404 [==============================] - 1s 2ms/step - loss: 41.4494 - mae: 4.4378 - val_loss: 50.4602 - val_mae: 4.9189\n",
            "Epoch 15/100\n",
            "404/404 [==============================] - 1s 2ms/step - loss: 40.1068 - mae: 4.4305 - val_loss: 51.7599 - val_mae: 5.0637\n",
            "Epoch 16/100\n",
            "404/404 [==============================] - 1s 2ms/step - loss: 38.8408 - mae: 4.3542 - val_loss: 36.8565 - val_mae: 4.2580\n",
            "Epoch 17/100\n",
            "404/404 [==============================] - 1s 2ms/step - loss: 36.4221 - mae: 4.2350 - val_loss: 34.2585 - val_mae: 4.1103\n",
            "Epoch 18/100\n",
            "404/404 [==============================] - 1s 3ms/step - loss: 36.2362 - mae: 4.1708 - val_loss: 33.0266 - val_mae: 4.0219\n",
            "Epoch 19/100\n",
            "404/404 [==============================] - 1s 3ms/step - loss: 35.8760 - mae: 4.1931 - val_loss: 36.8579 - val_mae: 4.1443\n",
            "Epoch 20/100\n",
            "404/404 [==============================] - 1s 3ms/step - loss: 34.6267 - mae: 4.1735 - val_loss: 53.8259 - val_mae: 5.2195\n",
            "Epoch 21/100\n",
            "404/404 [==============================] - 1s 2ms/step - loss: 34.2705 - mae: 4.1112 - val_loss: 34.1242 - val_mae: 4.0308\n",
            "Epoch 22/100\n",
            "404/404 [==============================] - 1s 2ms/step - loss: 32.5123 - mae: 4.0171 - val_loss: 33.4384 - val_mae: 3.9912\n",
            "Epoch 23/100\n",
            "404/404 [==============================] - 1s 2ms/step - loss: 32.1523 - mae: 4.1382 - val_loss: 31.7626 - val_mae: 4.2475\n",
            "Epoch 24/100\n",
            "404/404 [==============================] - 1s 2ms/step - loss: 31.7561 - mae: 4.0179 - val_loss: 31.1817 - val_mae: 3.8669\n",
            "Epoch 25/100\n",
            "404/404 [==============================] - 1s 2ms/step - loss: 30.2626 - mae: 3.8818 - val_loss: 48.0524 - val_mae: 4.9449\n",
            "Epoch 26/100\n",
            "404/404 [==============================] - 1s 2ms/step - loss: 29.7496 - mae: 3.8260 - val_loss: 32.4162 - val_mae: 4.4710\n",
            "Epoch 27/100\n",
            "404/404 [==============================] - 1s 2ms/step - loss: 30.3921 - mae: 3.8806 - val_loss: 30.6313 - val_mae: 3.8059\n",
            "Epoch 28/100\n",
            "404/404 [==============================] - 1s 2ms/step - loss: 28.9333 - mae: 3.7664 - val_loss: 27.7915 - val_mae: 3.8534\n",
            "Epoch 29/100\n",
            "404/404 [==============================] - 1s 2ms/step - loss: 28.1767 - mae: 3.8288 - val_loss: 36.1989 - val_mae: 4.1664\n",
            "Epoch 30/100\n",
            "404/404 [==============================] - 1s 2ms/step - loss: 26.7614 - mae: 3.7287 - val_loss: 47.4035 - val_mae: 4.9162\n",
            "Epoch 31/100\n",
            "404/404 [==============================] - 1s 3ms/step - loss: 28.1275 - mae: 3.7051 - val_loss: 26.7746 - val_mae: 3.6964\n",
            "Epoch 32/100\n",
            "404/404 [==============================] - 1s 4ms/step - loss: 25.0489 - mae: 3.6395 - val_loss: 28.2368 - val_mae: 3.7781\n",
            "Epoch 33/100\n",
            "404/404 [==============================] - 2s 4ms/step - loss: 26.3587 - mae: 3.6083 - val_loss: 26.2513 - val_mae: 3.8217\n",
            "Epoch 34/100\n",
            "404/404 [==============================] - 1s 3ms/step - loss: 24.8331 - mae: 3.5959 - val_loss: 32.0936 - val_mae: 3.9301\n",
            "Epoch 35/100\n",
            "404/404 [==============================] - 1s 2ms/step - loss: 24.4897 - mae: 3.5015 - val_loss: 31.7241 - val_mae: 3.9759\n",
            "Epoch 36/100\n",
            "404/404 [==============================] - 1s 2ms/step - loss: 24.0827 - mae: 3.4985 - val_loss: 26.5044 - val_mae: 3.8024\n",
            "Epoch 37/100\n",
            "404/404 [==============================] - 1s 2ms/step - loss: 21.8030 - mae: 3.4374 - val_loss: 32.0342 - val_mae: 4.0274\n",
            "Epoch 38/100\n",
            "404/404 [==============================] - 1s 2ms/step - loss: 22.7762 - mae: 3.5134 - val_loss: 28.4043 - val_mae: 3.7146\n",
            "Epoch 39/100\n",
            "404/404 [==============================] - 1s 2ms/step - loss: 21.9703 - mae: 3.3790 - val_loss: 34.2969 - val_mae: 4.0762\n",
            "Epoch 40/100\n",
            "404/404 [==============================] - 1s 2ms/step - loss: 22.4259 - mae: 3.3967 - val_loss: 26.4174 - val_mae: 3.5787\n",
            "Epoch 41/100\n",
            "404/404 [==============================] - 1s 2ms/step - loss: 22.1631 - mae: 3.3527 - val_loss: 26.9088 - val_mae: 3.5924\n",
            "Epoch 42/100\n",
            "404/404 [==============================] - 1s 2ms/step - loss: 21.1625 - mae: 3.3075 - val_loss: 28.8332 - val_mae: 3.7557\n",
            "Epoch 43/100\n",
            "404/404 [==============================] - 1s 2ms/step - loss: 20.7934 - mae: 3.3053 - val_loss: 32.5756 - val_mae: 4.2483\n",
            "Epoch 44/100\n",
            "404/404 [==============================] - 1s 2ms/step - loss: 20.9834 - mae: 3.2287 - val_loss: 31.4828 - val_mae: 4.0029\n",
            "Epoch 45/100\n",
            "404/404 [==============================] - 1s 2ms/step - loss: 20.7464 - mae: 3.2951 - val_loss: 31.2284 - val_mae: 3.9066\n",
            "Epoch 46/100\n",
            "404/404 [==============================] - 1s 2ms/step - loss: 20.1290 - mae: 3.3015 - val_loss: 25.9961 - val_mae: 3.6683\n",
            "Epoch 47/100\n",
            "404/404 [==============================] - 1s 3ms/step - loss: 18.5318 - mae: 3.1392 - val_loss: 47.0362 - val_mae: 5.4741\n",
            "Epoch 48/100\n",
            "404/404 [==============================] - 1s 3ms/step - loss: 21.6665 - mae: 3.2664 - val_loss: 32.9566 - val_mae: 3.9695\n",
            "Epoch 49/100\n",
            "404/404 [==============================] - 1s 2ms/step - loss: 19.8774 - mae: 3.2261 - val_loss: 29.9355 - val_mae: 3.9554\n",
            "Epoch 50/100\n",
            "404/404 [==============================] - 1s 2ms/step - loss: 19.0427 - mae: 3.1861 - val_loss: 28.7407 - val_mae: 3.8126\n",
            "Epoch 51/100\n",
            "404/404 [==============================] - 1s 2ms/step - loss: 19.7028 - mae: 3.1902 - val_loss: 26.9994 - val_mae: 3.6044\n",
            "Epoch 52/100\n",
            "404/404 [==============================] - 1s 2ms/step - loss: 20.6815 - mae: 3.1789 - val_loss: 28.3441 - val_mae: 3.7013\n",
            "Epoch 53/100\n",
            "404/404 [==============================] - 1s 2ms/step - loss: 19.3573 - mae: 3.1764 - val_loss: 26.9446 - val_mae: 3.6443\n",
            "Epoch 54/100\n",
            "404/404 [==============================] - 1s 2ms/step - loss: 20.1157 - mae: 3.1230 - val_loss: 27.2987 - val_mae: 3.6445\n",
            "Epoch 55/100\n",
            "404/404 [==============================] - 1s 2ms/step - loss: 19.6703 - mae: 3.2021 - val_loss: 33.9750 - val_mae: 4.0250\n",
            "Epoch 56/100\n",
            "404/404 [==============================] - 1s 2ms/step - loss: 18.8291 - mae: 3.0881 - val_loss: 36.0025 - val_mae: 4.2646\n",
            "Epoch 57/100\n",
            "404/404 [==============================] - 1s 2ms/step - loss: 19.0907 - mae: 3.0582 - val_loss: 28.9755 - val_mae: 3.7514\n",
            "Epoch 58/100\n",
            "404/404 [==============================] - 1s 2ms/step - loss: 17.8629 - mae: 3.0948 - val_loss: 40.8660 - val_mae: 4.4951\n",
            "Epoch 59/100\n",
            "404/404 [==============================] - 1s 2ms/step - loss: 18.7034 - mae: 3.0096 - val_loss: 34.6784 - val_mae: 4.4821\n",
            "Epoch 60/100\n",
            "404/404 [==============================] - 1s 2ms/step - loss: 18.7380 - mae: 3.0349 - val_loss: 34.4711 - val_mae: 4.2024\n",
            "Epoch 61/100\n",
            "404/404 [==============================] - 1s 3ms/step - loss: 17.6077 - mae: 3.0191 - val_loss: 29.0899 - val_mae: 3.6622\n",
            "Epoch 62/100\n",
            "404/404 [==============================] - 1s 3ms/step - loss: 18.3320 - mae: 2.9697 - val_loss: 34.3773 - val_mae: 4.0805\n",
            "Epoch 63/100\n",
            "404/404 [==============================] - 1s 2ms/step - loss: 19.1149 - mae: 3.1033 - val_loss: 25.1036 - val_mae: 3.4391\n",
            "Epoch 64/100\n",
            "404/404 [==============================] - 1s 2ms/step - loss: 17.7152 - mae: 3.1413 - val_loss: 38.2442 - val_mae: 4.4075\n",
            "Epoch 65/100\n",
            "404/404 [==============================] - 1s 2ms/step - loss: 17.5424 - mae: 2.9716 - val_loss: 28.2420 - val_mae: 3.6960\n",
            "Epoch 66/100\n",
            "404/404 [==============================] - 1s 2ms/step - loss: 18.6310 - mae: 3.0380 - val_loss: 30.7216 - val_mae: 3.8462\n",
            "Epoch 67/100\n",
            "404/404 [==============================] - 1s 2ms/step - loss: 18.4388 - mae: 3.0544 - val_loss: 32.7209 - val_mae: 3.9735\n",
            "Epoch 68/100\n",
            "404/404 [==============================] - 1s 2ms/step - loss: 19.2437 - mae: 3.0219 - val_loss: 27.1064 - val_mae: 3.4860\n",
            "Epoch 69/100\n",
            "404/404 [==============================] - 1s 2ms/step - loss: 17.4870 - mae: 3.0546 - val_loss: 32.0289 - val_mae: 3.8421\n",
            "Epoch 70/100\n",
            "404/404 [==============================] - 1s 2ms/step - loss: 17.2484 - mae: 3.0682 - val_loss: 28.6136 - val_mae: 3.7383\n",
            "Epoch 71/100\n",
            "404/404 [==============================] - 1s 2ms/step - loss: 17.9218 - mae: 2.9659 - val_loss: 33.4219 - val_mae: 3.9601\n",
            "Epoch 72/100\n",
            "404/404 [==============================] - 1s 2ms/step - loss: 18.0196 - mae: 2.9868 - val_loss: 33.4629 - val_mae: 3.9412\n",
            "Epoch 73/100\n",
            "404/404 [==============================] - 1s 2ms/step - loss: 17.5170 - mae: 2.9461 - val_loss: 31.4066 - val_mae: 3.8314\n",
            "Epoch 74/100\n",
            "404/404 [==============================] - 1s 2ms/step - loss: 16.3402 - mae: 2.8785 - val_loss: 38.4963 - val_mae: 4.1336\n",
            "Epoch 75/100\n",
            "404/404 [==============================] - 1s 3ms/step - loss: 18.3423 - mae: 3.0278 - val_loss: 30.3585 - val_mae: 3.5818\n",
            "Epoch 76/100\n",
            "404/404 [==============================] - 1s 3ms/step - loss: 16.9302 - mae: 2.9425 - val_loss: 27.2754 - val_mae: 3.5037\n",
            "Epoch 77/100\n",
            "404/404 [==============================] - 1s 3ms/step - loss: 17.5835 - mae: 3.0753 - val_loss: 30.2015 - val_mae: 3.8372\n",
            "Epoch 78/100\n",
            "404/404 [==============================] - 1s 2ms/step - loss: 16.5124 - mae: 2.9804 - val_loss: 50.8466 - val_mae: 5.2407\n",
            "Epoch 79/100\n",
            "404/404 [==============================] - 1s 2ms/step - loss: 17.9753 - mae: 2.9956 - val_loss: 30.1696 - val_mae: 3.5906\n",
            "Epoch 80/100\n",
            "404/404 [==============================] - 1s 2ms/step - loss: 16.4544 - mae: 2.9484 - val_loss: 43.0739 - val_mae: 4.2570\n",
            "Epoch 81/100\n",
            "404/404 [==============================] - 1s 2ms/step - loss: 17.3462 - mae: 2.8471 - val_loss: 38.2071 - val_mae: 4.2324\n",
            "Epoch 82/100\n",
            "404/404 [==============================] - 1s 2ms/step - loss: 18.1070 - mae: 3.0169 - val_loss: 28.6944 - val_mae: 3.5769\n",
            "Epoch 83/100\n",
            "404/404 [==============================] - 1s 2ms/step - loss: 17.9718 - mae: 2.9511 - val_loss: 31.2494 - val_mae: 3.8068\n",
            "Epoch 84/100\n",
            "404/404 [==============================] - 1s 2ms/step - loss: 16.5269 - mae: 2.7948 - val_loss: 26.7277 - val_mae: 3.4756\n",
            "Epoch 85/100\n",
            "404/404 [==============================] - 1s 2ms/step - loss: 16.9774 - mae: 2.9173 - val_loss: 25.0838 - val_mae: 3.5051\n",
            "Epoch 86/100\n",
            "404/404 [==============================] - 1s 2ms/step - loss: 17.6521 - mae: 3.0635 - val_loss: 25.2992 - val_mae: 3.5531\n",
            "Epoch 87/100\n",
            "404/404 [==============================] - 1s 2ms/step - loss: 16.8405 - mae: 2.9392 - val_loss: 34.8709 - val_mae: 4.2411\n",
            "Epoch 88/100\n",
            "404/404 [==============================] - 1s 2ms/step - loss: 16.6999 - mae: 3.0020 - val_loss: 29.4997 - val_mae: 3.6595\n",
            "Epoch 89/100\n",
            "404/404 [==============================] - 1s 3ms/step - loss: 16.8524 - mae: 2.8851 - val_loss: 29.9023 - val_mae: 3.8003\n",
            "Epoch 90/100\n",
            "404/404 [==============================] - 1s 3ms/step - loss: 16.4140 - mae: 2.8442 - val_loss: 30.6816 - val_mae: 3.6753\n",
            "Epoch 91/100\n",
            "404/404 [==============================] - 1s 3ms/step - loss: 16.6951 - mae: 2.9072 - val_loss: 29.8281 - val_mae: 3.6403\n",
            "Epoch 92/100\n",
            "404/404 [==============================] - 1s 2ms/step - loss: 16.9631 - mae: 2.9965 - val_loss: 34.6768 - val_mae: 3.7990\n",
            "Epoch 93/100\n",
            "404/404 [==============================] - 1s 2ms/step - loss: 17.2963 - mae: 2.9220 - val_loss: 25.4525 - val_mae: 3.4441\n",
            "Epoch 94/100\n",
            "404/404 [==============================] - 1s 2ms/step - loss: 16.8355 - mae: 2.9485 - val_loss: 33.9591 - val_mae: 3.8980\n",
            "Epoch 95/100\n",
            "404/404 [==============================] - 1s 2ms/step - loss: 16.0355 - mae: 2.8505 - val_loss: 30.2248 - val_mae: 3.7470\n",
            "Epoch 96/100\n",
            "404/404 [==============================] - 1s 2ms/step - loss: 16.9964 - mae: 2.9078 - val_loss: 29.3571 - val_mae: 3.7172\n",
            "Epoch 97/100\n",
            "404/404 [==============================] - 1s 2ms/step - loss: 15.3089 - mae: 2.8917 - val_loss: 33.0600 - val_mae: 3.9602\n",
            "Epoch 98/100\n",
            "404/404 [==============================] - 1s 2ms/step - loss: 17.0813 - mae: 2.8974 - val_loss: 30.9281 - val_mae: 3.6717\n",
            "Epoch 99/100\n",
            "404/404 [==============================] - 1s 2ms/step - loss: 16.2574 - mae: 2.8292 - val_loss: 27.3178 - val_mae: 3.5227\n",
            "Epoch 100/100\n",
            "404/404 [==============================] - 1s 2ms/step - loss: 17.1278 - mae: 2.8852 - val_loss: 32.9078 - val_mae: 3.9313\n"
          ]
        }
      ]
    },
    {
      "cell_type": "code",
      "source": [
        "test_input=[[8.65407330e-05,0.00000000e+00,1.13392175e-02,0.00000000e+00,1.12518247e-03,1.31897603e-02,7.53763011e-02,1.30768051e-02,1.09241016e-02,4.89399752e-01,4.41333705e-02,8.67155186e-01,1.75004108e-02]]\n",
        "print(\"Actual output:21.1\")\n",
        "print(\"Predicted output:\",model.predict(test_input))"
      ],
      "metadata": {
        "colab": {
          "base_uri": "https://localhost:8080/"
        },
        "id": "VNBSgrCa8Xzi",
        "outputId": "9d061a6b-bbdf-4c1a-8cb9-833e63af3ef7"
      },
      "execution_count": null,
      "outputs": [
        {
          "output_type": "stream",
          "name": "stdout",
          "text": [
            "Actual output:21.1\n",
            "1/1 [==============================] - 0s 82ms/step\n",
            "Predicted output: [[21.26815]]\n"
          ]
        }
      ]
    },
    {
      "cell_type": "code",
      "source": [],
      "metadata": {
        "id": "jg30ty7PMPmp"
      },
      "execution_count": null,
      "outputs": []
    }
  ]
}