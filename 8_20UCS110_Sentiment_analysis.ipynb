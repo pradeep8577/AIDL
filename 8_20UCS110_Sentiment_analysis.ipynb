{
  "nbformat": 4,
  "nbformat_minor": 0,
  "metadata": {
    "colab": {
      "provenance": []
    },
    "kernelspec": {
      "name": "python3",
      "display_name": "Python 3"
    },
    "language_info": {
      "name": "python"
    }
  },
  "cells": [
    {
      "cell_type": "code",
      "execution_count": null,
      "metadata": {
        "id": "PrMclGnXGF-K"
      },
      "outputs": [],
      "source": [
        "from google.colab import drive\n",
        "import tensorflow as tf\n",
        "from tensorflow.keras.preprocessing.text import Tokenizer"
      ]
    },
    {
      "cell_type": "code",
      "source": [
        "x = [\"I am very happy today\",\"No, I do not like the movie\"]\n",
        "y = [1,0]"
      ],
      "metadata": {
        "id": "Q7tJ02J3GzrF"
      },
      "execution_count": null,
      "outputs": []
    },
    {
      "cell_type": "code",
      "source": [
        "tokenizer = Tokenizer(num_words=20)"
      ],
      "metadata": {
        "id": "RutLraqeHCXz"
      },
      "execution_count": null,
      "outputs": []
    },
    {
      "cell_type": "code",
      "source": [
        "tokenizer.fit_on_texts(x)"
      ],
      "metadata": {
        "id": "Itv5D6sSHMSf"
      },
      "execution_count": null,
      "outputs": []
    },
    {
      "cell_type": "code",
      "source": [
        "sequences = tokenizer.texts_to_sequences(x)"
      ],
      "metadata": {
        "id": "rXCRHBCBHQgw"
      },
      "execution_count": null,
      "outputs": []
    },
    {
      "cell_type": "code",
      "source": [
        "word_index = tokenizer.word_index\n",
        "print(tokenizer.word_index)\n",
        "print(\"Found %s unique tokens.\"%len(word_index))"
      ],
      "metadata": {
        "colab": {
          "base_uri": "https://localhost:8080/"
        },
        "id": "IzpjYh82HWYM",
        "outputId": "da10ea0f-fca9-467a-8398-be09585d2548"
      },
      "execution_count": null,
      "outputs": [
        {
          "output_type": "stream",
          "name": "stdout",
          "text": [
            "{'i': 1, 'am': 2, 'very': 3, 'happy': 4, 'today': 5, 'no': 6, 'do': 7, 'not': 8, 'like': 9, 'the': 10, 'movie': 11}\n",
            "Found 11 unique tokens.\n"
          ]
        }
      ]
    },
    {
      "cell_type": "code",
      "source": [
        "print(sequences)"
      ],
      "metadata": {
        "colab": {
          "base_uri": "https://localhost:8080/"
        },
        "id": "QgaAxy90HoUQ",
        "outputId": "c3dd9244-359d-4240-d6bc-a1c3fb3a5a60"
      },
      "execution_count": null,
      "outputs": [
        {
          "output_type": "stream",
          "name": "stdout",
          "text": [
            "[[1, 2, 3, 4, 5], [6, 1, 7, 8, 9, 10, 11]]\n"
          ]
        }
      ]
    },
    {
      "cell_type": "code",
      "source": [
        "max_length = 0\n",
        "for review_number in range(len(sequences)):\n",
        "  numberofwords = len(sequences[review_number])\n",
        "  if((numberofwords)>(max_length)):\n",
        "    max_length = numberofwords\n",
        "print(max_length)"
      ],
      "metadata": {
        "colab": {
          "base_uri": "https://localhost:8080/"
        },
        "id": "DOw2hF18HscV",
        "outputId": "d3492ff0-cf05-45fe-bf50-a40373065b34"
      },
      "execution_count": null,
      "outputs": [
        {
          "output_type": "stream",
          "name": "stdout",
          "text": [
            "7\n"
          ]
        }
      ]
    },
    {
      "cell_type": "code",
      "source": [
        "from tensorflow.keras.preprocessing.sequence import pad_sequences\n",
        "import numpy as np\n",
        "data = pad_sequences(sequences,maxlen=max_length)\n",
        "y=np.asarray(y)\n",
        "print(data)\n",
        "print(\"Shape of data tensor:\", data.shape)\n",
        "print(\"Shape of label tensor:\", y.shape)"
      ],
      "metadata": {
        "colab": {
          "base_uri": "https://localhost:8080/"
        },
        "id": "FEsWwW7XIPCB",
        "outputId": "b643c67a-5611-457e-fc35-469fdef32cf6"
      },
      "execution_count": null,
      "outputs": [
        {
          "output_type": "stream",
          "name": "stdout",
          "text": [
            "[[ 0  0  1  2  3  4  5]\n",
            " [ 6  1  7  8  9 10 11]]\n",
            "Shape of data tensor: (2, 7)\n",
            "Shape of label tensor: (2,)\n"
          ]
        }
      ]
    },
    {
      "cell_type": "code",
      "source": [
        "from tensorflow.keras.models import *\n",
        "from tensorflow.keras.layers import *\n",
        "\n",
        "total_words = len(word_index)+1\n",
        "embedding_dim = 5\n",
        "\n",
        "model = Sequential()\n",
        "model.add(Embedding(total_words,embedding_dim,input_length=max_length,name='embedding_layer'))\n",
        "model.add(SimpleRNN(128,activation='relu',return_sequences=True,name='rnn1'))\n",
        "model.add(SimpleRNN(256,activation='relu',name='rnn2'))\n",
        "model.add(Dense(1,activation='sigmoid'))\n",
        "print(model.summary())"
      ],
      "metadata": {
        "colab": {
          "base_uri": "https://localhost:8080/"
        },
        "id": "EZBdw1GxIfN_",
        "outputId": "bc9fadae-3240-4675-8d3c-a007ec02fecd"
      },
      "execution_count": null,
      "outputs": [
        {
          "output_type": "stream",
          "name": "stdout",
          "text": [
            "Model: \"sequential\"\n",
            "_________________________________________________________________\n",
            " Layer (type)                Output Shape              Param #   \n",
            "=================================================================\n",
            " embedding_layer (Embedding  (None, 7, 5)              60        \n",
            " )                                                               \n",
            "                                                                 \n",
            " rnn1 (SimpleRNN)            (None, 7, 128)            17152     \n",
            "                                                                 \n",
            " rnn2 (SimpleRNN)            (None, 256)               98560     \n",
            "                                                                 \n",
            " dense (Dense)               (None, 1)                 257       \n",
            "                                                                 \n",
            "=================================================================\n",
            "Total params: 116029 (453.24 KB)\n",
            "Trainable params: 116029 (453.24 KB)\n",
            "Non-trainable params: 0 (0.00 Byte)\n",
            "_________________________________________________________________\n",
            "None\n"
          ]
        }
      ]
    },
    {
      "cell_type": "code",
      "source": [
        "from keras.optimizers import *\n",
        "opt = SGD(learning_rate = 0.01,weight_decay=1e-5)\n",
        "model.compile(loss=\"binary_crossentropy\",optimizer = opt,metrics=['accuracy'])\n",
        "model.fit(data,y,epochs=10,verbose=1)"
      ],
      "metadata": {
        "colab": {
          "base_uri": "https://localhost:8080/"
        },
        "id": "MXhTWgWtJ_pd",
        "outputId": "6d63f838-c90f-4dcf-aec9-ffd21a393869"
      },
      "execution_count": null,
      "outputs": [
        {
          "output_type": "stream",
          "name": "stdout",
          "text": [
            "Epoch 1/10\n",
            "1/1 [==============================] - 3s 3s/step - loss: 0.6960 - accuracy: 0.5000\n",
            "Epoch 2/10\n",
            "1/1 [==============================] - 0s 20ms/step - loss: 0.6923 - accuracy: 0.5000\n",
            "Epoch 3/10\n",
            "1/1 [==============================] - 0s 18ms/step - loss: 0.6896 - accuracy: 1.0000\n",
            "Epoch 4/10\n",
            "1/1 [==============================] - 0s 16ms/step - loss: 0.6873 - accuracy: 1.0000\n",
            "Epoch 5/10\n",
            "1/1 [==============================] - 0s 16ms/step - loss: 0.6853 - accuracy: 1.0000\n",
            "Epoch 6/10\n",
            "1/1 [==============================] - 0s 15ms/step - loss: 0.6836 - accuracy: 1.0000\n",
            "Epoch 7/10\n",
            "1/1 [==============================] - 0s 17ms/step - loss: 0.6819 - accuracy: 1.0000\n",
            "Epoch 8/10\n",
            "1/1 [==============================] - 0s 17ms/step - loss: 0.6804 - accuracy: 1.0000\n",
            "Epoch 9/10\n",
            "1/1 [==============================] - 0s 24ms/step - loss: 0.6791 - accuracy: 1.0000\n",
            "Epoch 10/10\n",
            "1/1 [==============================] - 0s 17ms/step - loss: 0.6780 - accuracy: 1.0000\n"
          ]
        },
        {
          "output_type": "execute_result",
          "data": {
            "text/plain": [
              "<keras.src.callbacks.History at 0x7dc8ca0ae440>"
            ]
          },
          "metadata": {},
          "execution_count": 11
        }
      ]
    },
    {
      "cell_type": "code",
      "source": [
        "embeddings = model.get_weights()\n",
        "print(\"Embedding Layer weight shape : \",embeddings[0].shape)\n",
        "print(\"Embedding Layer weight : \",embeddings[0])"
      ],
      "metadata": {
        "id": "6kr48G-nK7wR",
        "colab": {
          "base_uri": "https://localhost:8080/"
        },
        "outputId": "2b8d5da0-4b84-4df0-af2b-d91df0dcbe99"
      },
      "execution_count": null,
      "outputs": [
        {
          "output_type": "stream",
          "name": "stdout",
          "text": [
            "Embedding Layer weight shape :  (12, 5)\n",
            "Embedding Layer weight :  [[-0.01665672 -0.03430866  0.02169642  0.0255956  -0.02008986]\n",
            " [ 0.03758053 -0.04251179  0.04144001 -0.02545093  0.02802744]\n",
            " [-0.01442243  0.03932101  0.01457519  0.0062017   0.02830362]\n",
            " [ 0.00227355  0.00998094  0.04991761 -0.00529018 -0.04778458]\n",
            " [-0.00859621  0.00822617 -0.01883736  0.04033209 -0.01980667]\n",
            " [-0.02864565  0.01143987  0.00179213 -0.04595173 -0.04315553]\n",
            " [ 0.04357805 -0.02835813 -0.04155688  0.01078493 -0.03435604]\n",
            " [-0.02541331  0.04173858 -0.02135534  0.01512483 -0.02156707]\n",
            " [-0.01728323 -0.03908994 -0.04237985  0.02624933  0.01967078]\n",
            " [ 0.04871276 -0.0508878   0.02850107 -0.03392233 -0.04501695]\n",
            " [-0.02800198 -0.02397641  0.04313796  0.03952325 -0.02575759]\n",
            " [ 0.03426393  0.037321   -0.04108738 -0.04398547  0.04528809]]\n"
          ]
        }
      ]
    },
    {
      "cell_type": "code",
      "source": [],
      "metadata": {
        "id": "FaphCiMrQKCu"
      },
      "execution_count": null,
      "outputs": []
    }
  ]
}