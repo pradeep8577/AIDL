{
  "nbformat": 4,
  "nbformat_minor": 0,
  "metadata": {
    "colab": {
      "provenance": []
    },
    "kernelspec": {
      "name": "python3",
      "display_name": "Python 3"
    },
    "language_info": {
      "name": "python"
    }
  },
  "cells": [
    {
      "cell_type": "code",
      "execution_count": null,
      "metadata": {
        "id": "KYaN2RgMocE9"
      },
      "outputs": [],
      "source": [
        "import tensorflow as tf\n",
        "import matplotlib.pyplot as plt"
      ]
    },
    {
      "cell_type": "code",
      "source": [
        "from tensorflow.keras.datasets import fashion_mnist\n",
        "(x_train,y_train),(x_test,y_test)=fashion_mnist.load_data()"
      ],
      "metadata": {
        "colab": {
          "base_uri": "https://localhost:8080/"
        },
        "id": "wBhrVyWBoj5g",
        "outputId": "e9e870c3-07fa-4cd8-91d3-4b6c0f689d49"
      },
      "execution_count": null,
      "outputs": [
        {
          "output_type": "stream",
          "name": "stdout",
          "text": [
            "Downloading data from https://storage.googleapis.com/tensorflow/tf-keras-datasets/train-labels-idx1-ubyte.gz\n",
            "29515/29515 [==============================] - 0s 0us/step\n",
            "Downloading data from https://storage.googleapis.com/tensorflow/tf-keras-datasets/train-images-idx3-ubyte.gz\n",
            "26421880/26421880 [==============================] - 0s 0us/step\n",
            "Downloading data from https://storage.googleapis.com/tensorflow/tf-keras-datasets/t10k-labels-idx1-ubyte.gz\n",
            "5148/5148 [==============================] - 0s 0us/step\n",
            "Downloading data from https://storage.googleapis.com/tensorflow/tf-keras-datasets/t10k-images-idx3-ubyte.gz\n",
            "4422102/4422102 [==============================] - 0s 0us/step\n"
          ]
        }
      ]
    },
    {
      "cell_type": "code",
      "source": [
        "print(x_train.shape)\n",
        "print(y_train.shape)"
      ],
      "metadata": {
        "colab": {
          "base_uri": "https://localhost:8080/"
        },
        "id": "bh4dIgTko2Pm",
        "outputId": "13bf86f4-2f05-4bc8-e160-1be74c4da7e9"
      },
      "execution_count": null,
      "outputs": [
        {
          "output_type": "stream",
          "name": "stdout",
          "text": [
            "(60000, 28, 28)\n",
            "(60000,)\n"
          ]
        }
      ]
    },
    {
      "cell_type": "code",
      "source": [
        "print(x_test.shape)\n",
        "print(y_test.shape)"
      ],
      "metadata": {
        "colab": {
          "base_uri": "https://localhost:8080/"
        },
        "id": "aQ6qnEsJpg_e",
        "outputId": "3d79d33c-8a85-46c5-9c96-75672933e725"
      },
      "execution_count": null,
      "outputs": [
        {
          "output_type": "stream",
          "name": "stdout",
          "text": [
            "(10000, 28, 28)\n",
            "(10000,)\n"
          ]
        }
      ]
    },
    {
      "cell_type": "code",
      "source": [
        "print(x_train[0])"
      ],
      "metadata": {
        "colab": {
          "base_uri": "https://localhost:8080/"
        },
        "id": "Ih6aHLd8pon9",
        "outputId": "d0749b21-0c7e-444c-aafc-28c092acabc3"
      },
      "execution_count": null,
      "outputs": [
        {
          "output_type": "stream",
          "name": "stdout",
          "text": [
            "[[  0   0   0   0   0   0   0   0   0   0   0   0   0   0   0   0   0   0\n",
            "    0   0   0   0   0   0   0   0   0   0]\n",
            " [  0   0   0   0   0   0   0   0   0   0   0   0   0   0   0   0   0   0\n",
            "    0   0   0   0   0   0   0   0   0   0]\n",
            " [  0   0   0   0   0   0   0   0   0   0   0   0   0   0   0   0   0   0\n",
            "    0   0   0   0   0   0   0   0   0   0]\n",
            " [  0   0   0   0   0   0   0   0   0   0   0   0   1   0   0  13  73   0\n",
            "    0   1   4   0   0   0   0   1   1   0]\n",
            " [  0   0   0   0   0   0   0   0   0   0   0   0   3   0  36 136 127  62\n",
            "   54   0   0   0   1   3   4   0   0   3]\n",
            " [  0   0   0   0   0   0   0   0   0   0   0   0   6   0 102 204 176 134\n",
            "  144 123  23   0   0   0   0  12  10   0]\n",
            " [  0   0   0   0   0   0   0   0   0   0   0   0   0   0 155 236 207 178\n",
            "  107 156 161 109  64  23  77 130  72  15]\n",
            " [  0   0   0   0   0   0   0   0   0   0   0   1   0  69 207 223 218 216\n",
            "  216 163 127 121 122 146 141  88 172  66]\n",
            " [  0   0   0   0   0   0   0   0   0   1   1   1   0 200 232 232 233 229\n",
            "  223 223 215 213 164 127 123 196 229   0]\n",
            " [  0   0   0   0   0   0   0   0   0   0   0   0   0 183 225 216 223 228\n",
            "  235 227 224 222 224 221 223 245 173   0]\n",
            " [  0   0   0   0   0   0   0   0   0   0   0   0   0 193 228 218 213 198\n",
            "  180 212 210 211 213 223 220 243 202   0]\n",
            " [  0   0   0   0   0   0   0   0   0   1   3   0  12 219 220 212 218 192\n",
            "  169 227 208 218 224 212 226 197 209  52]\n",
            " [  0   0   0   0   0   0   0   0   0   0   6   0  99 244 222 220 218 203\n",
            "  198 221 215 213 222 220 245 119 167  56]\n",
            " [  0   0   0   0   0   0   0   0   0   4   0   0  55 236 228 230 228 240\n",
            "  232 213 218 223 234 217 217 209  92   0]\n",
            " [  0   0   1   4   6   7   2   0   0   0   0   0 237 226 217 223 222 219\n",
            "  222 221 216 223 229 215 218 255  77   0]\n",
            " [  0   3   0   0   0   0   0   0   0  62 145 204 228 207 213 221 218 208\n",
            "  211 218 224 223 219 215 224 244 159   0]\n",
            " [  0   0   0   0  18  44  82 107 189 228 220 222 217 226 200 205 211 230\n",
            "  224 234 176 188 250 248 233 238 215   0]\n",
            " [  0  57 187 208 224 221 224 208 204 214 208 209 200 159 245 193 206 223\n",
            "  255 255 221 234 221 211 220 232 246   0]\n",
            " [  3 202 228 224 221 211 211 214 205 205 205 220 240  80 150 255 229 221\n",
            "  188 154 191 210 204 209 222 228 225   0]\n",
            " [ 98 233 198 210 222 229 229 234 249 220 194 215 217 241  65  73 106 117\n",
            "  168 219 221 215 217 223 223 224 229  29]\n",
            " [ 75 204 212 204 193 205 211 225 216 185 197 206 198 213 240 195 227 245\n",
            "  239 223 218 212 209 222 220 221 230  67]\n",
            " [ 48 203 183 194 213 197 185 190 194 192 202 214 219 221 220 236 225 216\n",
            "  199 206 186 181 177 172 181 205 206 115]\n",
            " [  0 122 219 193 179 171 183 196 204 210 213 207 211 210 200 196 194 191\n",
            "  195 191 198 192 176 156 167 177 210  92]\n",
            " [  0   0  74 189 212 191 175 172 175 181 185 188 189 188 193 198 204 209\n",
            "  210 210 211 188 188 194 192 216 170   0]\n",
            " [  2   0   0   0  66 200 222 237 239 242 246 243 244 221 220 193 191 179\n",
            "  182 182 181 176 166 168  99  58   0   0]\n",
            " [  0   0   0   0   0   0   0  40  61  44  72  41  35   0   0   0   0   0\n",
            "    0   0   0   0   0   0   0   0   0   0]\n",
            " [  0   0   0   0   0   0   0   0   0   0   0   0   0   0   0   0   0   0\n",
            "    0   0   0   0   0   0   0   0   0   0]\n",
            " [  0   0   0   0   0   0   0   0   0   0   0   0   0   0   0   0   0   0\n",
            "    0   0   0   0   0   0   0   0   0   0]]\n"
          ]
        }
      ]
    },
    {
      "cell_type": "code",
      "source": [
        "plt.imshow(x_train[0])"
      ],
      "metadata": {
        "colab": {
          "base_uri": "https://localhost:8080/",
          "height": 448
        },
        "id": "ou5AuiuZpy3d",
        "outputId": "887ad240-4fe9-45cc-ba3f-18f28a5c380a"
      },
      "execution_count": null,
      "outputs": [
        {
          "output_type": "execute_result",
          "data": {
            "text/plain": [
              "<matplotlib.image.AxesImage at 0x78af7ba0d990>"
            ]
          },
          "metadata": {},
          "execution_count": 10
        },
        {
          "output_type": "display_data",
          "data": {
            "text/plain": [
              "<Figure size 640x480 with 1 Axes>"
            ],
            "image/png": "[encoded data removed]"
          },
          "metadata": {}
        }
      ]
    },
    {
      "cell_type": "code",
      "source": [
        "print(y_train[0])"
      ],
      "metadata": {
        "colab": {
          "base_uri": "https://localhost:8080/"
        },
        "id": "lQYz26kFqEzW",
        "outputId": "e93cf4d6-d0e2-4e51-f3e1-8556aa814f31"
      },
      "execution_count": null,
      "outputs": [
        {
          "output_type": "stream",
          "name": "stdout",
          "text": [
            "9\n"
          ]
        }
      ]
    },
    {
      "cell_type": "code",
      "source": [
        "set(y_train)"
      ],
      "metadata": {
        "colab": {
          "base_uri": "https://localhost:8080/"
        },
        "id": "uShvFxoYqQ19",
        "outputId": "125a217b-0344-4013-a61a-e05004c01b40"
      },
      "execution_count": null,
      "outputs": [
        {
          "output_type": "execute_result",
          "data": {
            "text/plain": [
              "{0, 1, 2, 3, 4, 5, 6, 7, 8, 9}"
            ]
          },
          "metadata": {},
          "execution_count": 12
        }
      ]
    },
    {
      "cell_type": "code",
      "source": [
        "x_train = x_train.astype(float) /255.0\n",
        "x_test = x_test.astype(float) /255.0"
      ],
      "metadata": {
        "id": "t3JVgzrWq9U2"
      },
      "execution_count": null,
      "outputs": []
    },
    {
      "cell_type": "code",
      "source": [
        "from tensorflow.keras.utils import to_categorical\n",
        "y_train = to_categorical(y_train)\n",
        "y_test = to_categorical(y_test)"
      ],
      "metadata": {
        "id": "m7vSzr-zrRce"
      },
      "execution_count": null,
      "outputs": []
    },
    {
      "cell_type": "code",
      "source": [
        "y_train[0]"
      ],
      "metadata": {
        "colab": {
          "base_uri": "https://localhost:8080/"
        },
        "id": "Wu-CT_yarZoW",
        "outputId": "5bb61254-0231-48fa-d7f3-5ecd40a3bab5"
      },
      "execution_count": null,
      "outputs": [
        {
          "output_type": "execute_result",
          "data": {
            "text/plain": [
              "array([0., 0., 0., 0., 0., 0., 0., 0., 0., 1.], dtype=float32)"
            ]
          },
          "metadata": {},
          "execution_count": 16
        }
      ]
    },
    {
      "cell_type": "code",
      "source": [
        "from tensorflow.keras.models import Sequential\n",
        "from tensorflow.keras.layers import InputLayer ,Conv2D, MaxPooling2D, Flatten, Dense"
      ],
      "metadata": {
        "id": "sA5xDSrVruXG"
      },
      "execution_count": null,
      "outputs": []
    },
    {
      "cell_type": "code",
      "source": [
        "model = Sequential()\n",
        "model.add(InputLayer(input_shape=(28,28,1)))\n",
        "model.add(Conv2D(filters=10,kernel_size=3,strides=(1,1),padding='valid',activation='relu'))\n",
        "model.add(MaxPooling2D(pool_size=(2,2)))\n",
        "model.add(Conv2D(filters=10,kernel_size=3,strides=(1,1),padding='valid',activation='relu'))\n",
        "model.add(MaxPooling2D(pool_size=(2,2)))\n",
        "model.add(Conv2D(filters=10,kernel_size=3,strides=(1,1),padding='valid',activation='relu'))\n",
        "model.add(MaxPooling2D(pool_size=(2,2)))\n",
        "model.add(Flatten())\n",
        "model.add(Dense(64,activation='relu'))\n",
        "model.add(Dense(32,activation='relu'))\n",
        "model.add(Dense(10,activation='softmax'))"
      ],
      "metadata": {
        "id": "xD7o8HsHsMK-"
      },
      "execution_count": null,
      "outputs": []
    },
    {
      "cell_type": "code",
      "source": [
        "model.summary()"
      ],
      "metadata": {
        "colab": {
          "base_uri": "https://localhost:8080/"
        },
        "id": "mazUVXLqugBo",
        "outputId": "4d73e91f-c9f4-4cc5-afa7-7f5427855fa3"
      },
      "execution_count": null,
      "outputs": [
        {
          "output_type": "stream",
          "name": "stdout",
          "text": [
            "Model: \"sequential_4\"\n",
            "_________________________________________________________________\n",
            " Layer (type)                Output Shape              Param #   \n",
            "=================================================================\n",
            " conv2d_4 (Conv2D)           (None, 26, 26, 10)        100       \n",
            "                                                                 \n",
            " max_pooling2d_3 (MaxPoolin  (None, 13, 13, 10)        0         \n",
            " g2D)                                                            \n",
            "                                                                 \n",
            " conv2d_5 (Conv2D)           (None, 11, 11, 10)        910       \n",
            "                                                                 \n",
            " max_pooling2d_4 (MaxPoolin  (None, 5, 5, 10)          0         \n",
            " g2D)                                                            \n",
            "                                                                 \n",
            " conv2d_6 (Conv2D)           (None, 3, 3, 10)          910       \n",
            "                                                                 \n",
            " max_pooling2d_5 (MaxPoolin  (None, 1, 1, 10)          0         \n",
            " g2D)                                                            \n",
            "                                                                 \n",
            " flatten (Flatten)           (None, 10)                0         \n",
            "                                                                 \n",
            " dense (Dense)               (None, 64)                704       \n",
            "                                                                 \n",
            " dense_1 (Dense)             (None, 32)                2080      \n",
            "                                                                 \n",
            " dense_2 (Dense)             (None, 10)                330       \n",
            "                                                                 \n",
            "=================================================================\n",
            "Total params: 5034 (19.66 KB)\n",
            "Trainable params: 5034 (19.66 KB)\n",
            "Non-trainable params: 0 (0.00 Byte)\n",
            "_________________________________________________________________\n"
          ]
        }
      ]
    },
    {
      "cell_type": "code",
      "source": [
        "import tensorflow\n",
        "model.compile(optimizer='adam',loss=tensorflow.keras.losses.categorical_crossentropy,metrics=['acc'])"
      ],
      "metadata": {
        "id": "iAxKRLtGu_6e"
      },
      "execution_count": null,
      "outputs": []
    },
    {
      "cell_type": "code",
      "source": [
        "x_train = x_train.reshape((60000,28,28,1))\n",
        "x_test = x_test.reshape((10000,28,28,1))\n",
        "print(x_train.shape)\n",
        "print(x_test.shape)"
      ],
      "metadata": {
        "colab": {
          "base_uri": "https://localhost:8080/"
        },
        "id": "RwRR00qcvkwe",
        "outputId": "5000cccb-3688-4ab4-ffad-551b8d327a1c"
      },
      "execution_count": null,
      "outputs": [
        {
          "output_type": "stream",
          "name": "stdout",
          "text": [
            "(60000, 28, 28, 1)\n",
            "(10000, 28, 28, 1)\n"
          ]
        }
      ]
    },
    {
      "cell_type": "code",
      "source": [
        "history = model.fit(x_train,y_train,epochs=30,batch_size=512,validation_data=(x_test,y_test))"
      ],
      "metadata": {
        "colab": {
          "base_uri": "https://localhost:8080/"
        },
        "id": "dtw9Pi9Hv_J2",
        "outputId": "9b11a4e1-b8cb-4fe1-9f53-d9d1adb27de7"
      },
      "execution_count": null,
      "outputs": [
        {
          "output_type": "stream",
          "name": "stdout",
          "text": [
            "Epoch 1/30\n",
            "118/118 [==============================] - 30s 233ms/step - loss: 0.4210 - acc: 0.8447 - val_loss: 0.4614 - val_acc: 0.8317\n",
            "Epoch 2/30\n",
            "118/118 [==============================] - 20s 165ms/step - loss: 0.4199 - acc: 0.8453 - val_loss: 0.4530 - val_acc: 0.8345\n",
            "Epoch 3/30\n",
            "118/118 [==============================] - 19s 159ms/step - loss: 0.4168 - acc: 0.8454 - val_loss: 0.4556 - val_acc: 0.8335\n",
            "Epoch 4/30\n",
            "118/118 [==============================] - 20s 169ms/step - loss: 0.4139 - acc: 0.8475 - val_loss: 0.4615 - val_acc: 0.8322\n",
            "Epoch 5/30\n",
            "118/118 [==============================] - 19s 158ms/step - loss: 0.4126 - acc: 0.8477 - val_loss: 0.4619 - val_acc: 0.8325\n",
            "Epoch 6/30\n",
            "118/118 [==============================] - 20s 172ms/step - loss: 0.4091 - acc: 0.8489 - val_loss: 0.4479 - val_acc: 0.8349\n",
            "Epoch 7/30\n",
            "118/118 [==============================] - 19s 164ms/step - loss: 0.4079 - acc: 0.8491 - val_loss: 0.4443 - val_acc: 0.8370\n",
            "Epoch 8/30\n",
            "118/118 [==============================] - 20s 166ms/step - loss: 0.4049 - acc: 0.8513 - val_loss: 0.4425 - val_acc: 0.8387\n",
            "Epoch 9/30\n",
            "118/118 [==============================] - 19s 160ms/step - loss: 0.4030 - acc: 0.8526 - val_loss: 0.4390 - val_acc: 0.8400\n",
            "Epoch 10/30\n",
            "118/118 [==============================] - 20s 169ms/step - loss: 0.4014 - acc: 0.8506 - val_loss: 0.4404 - val_acc: 0.8395\n",
            "Epoch 11/30\n",
            "118/118 [==============================] - 19s 158ms/step - loss: 0.3993 - acc: 0.8518 - val_loss: 0.4414 - val_acc: 0.8385\n",
            "Epoch 12/30\n",
            "118/118 [==============================] - 21s 179ms/step - loss: 0.3987 - acc: 0.8525 - val_loss: 0.4502 - val_acc: 0.8370\n",
            "Epoch 13/30\n",
            "118/118 [==============================] - 19s 159ms/step - loss: 0.3965 - acc: 0.8523 - val_loss: 0.4306 - val_acc: 0.8425\n",
            "Epoch 14/30\n",
            "118/118 [==============================] - 21s 176ms/step - loss: 0.3940 - acc: 0.8543 - val_loss: 0.4345 - val_acc: 0.8411\n",
            "Epoch 15/30\n",
            "118/118 [==============================] - 18s 154ms/step - loss: 0.3939 - acc: 0.8536 - val_loss: 0.4287 - val_acc: 0.8435\n",
            "Epoch 16/30\n",
            "118/118 [==============================] - 21s 174ms/step - loss: 0.3911 - acc: 0.8552 - val_loss: 0.4367 - val_acc: 0.8427\n",
            "Epoch 17/30\n",
            "118/118 [==============================] - 19s 159ms/step - loss: 0.3877 - acc: 0.8558 - val_loss: 0.4375 - val_acc: 0.8420\n",
            "Epoch 18/30\n",
            "118/118 [==============================] - 20s 168ms/step - loss: 0.3866 - acc: 0.8562 - val_loss: 0.4256 - val_acc: 0.8454\n",
            "Epoch 19/30\n",
            "118/118 [==============================] - 19s 160ms/step - loss: 0.3867 - acc: 0.8564 - val_loss: 0.4289 - val_acc: 0.8435\n",
            "Epoch 20/30\n",
            "118/118 [==============================] - 20s 170ms/step - loss: 0.3842 - acc: 0.8569 - val_loss: 0.4359 - val_acc: 0.8389\n",
            "Epoch 21/30\n",
            "118/118 [==============================] - 18s 156ms/step - loss: 0.3848 - acc: 0.8568 - val_loss: 0.4293 - val_acc: 0.8445\n",
            "Epoch 22/30\n",
            "118/118 [==============================] - 20s 170ms/step - loss: 0.3828 - acc: 0.8579 - val_loss: 0.4279 - val_acc: 0.8441\n",
            "Epoch 23/30\n",
            "118/118 [==============================] - 19s 158ms/step - loss: 0.3811 - acc: 0.8586 - val_loss: 0.4285 - val_acc: 0.8459\n",
            "Epoch 24/30\n",
            "118/118 [==============================] - 20s 168ms/step - loss: 0.3797 - acc: 0.8581 - val_loss: 0.4220 - val_acc: 0.8456\n",
            "Epoch 25/30\n",
            "118/118 [==============================] - 19s 158ms/step - loss: 0.3794 - acc: 0.8594 - val_loss: 0.4250 - val_acc: 0.8443\n",
            "Epoch 26/30\n",
            "118/118 [==============================] - 20s 170ms/step - loss: 0.3783 - acc: 0.8597 - val_loss: 0.4276 - val_acc: 0.8455\n",
            "Epoch 27/30\n",
            "118/118 [==============================] - 19s 160ms/step - loss: 0.3777 - acc: 0.8601 - val_loss: 0.4186 - val_acc: 0.8474\n",
            "Epoch 28/30\n",
            "118/118 [==============================] - 20s 169ms/step - loss: 0.3745 - acc: 0.8620 - val_loss: 0.4234 - val_acc: 0.8469\n",
            "Epoch 29/30\n",
            "118/118 [==============================] - 18s 155ms/step - loss: 0.3743 - acc: 0.8607 - val_loss: 0.4183 - val_acc: 0.8456\n",
            "Epoch 30/30\n",
            "118/118 [==============================] - 20s 169ms/step - loss: 0.3741 - acc: 0.8609 - val_loss: 0.4214 - val_acc: 0.8457\n"
          ]
        }
      ]
    },
    {
      "cell_type": "code",
      "source": [
        "history.history.keys()"
      ],
      "metadata": {
        "colab": {
          "base_uri": "https://localhost:8080/"
        },
        "id": "z3M0LXIrwTlt",
        "outputId": "d5f9f20a-19ef-4a98-ef98-8274f24ee5f2"
      },
      "execution_count": null,
      "outputs": [
        {
          "output_type": "execute_result",
          "data": {
            "text/plain": [
              "dict_keys(['loss', 'acc', 'val_loss', 'val_acc'])"
            ]
          },
          "metadata": {},
          "execution_count": 36
        }
      ]
    },
    {
      "cell_type": "code",
      "source": [
        "import matplotlib.pyplot as plt\n",
        "\n",
        "plt.plot(history.history['acc'])\n",
        "plt.plot(history.history['val_acc'])\n",
        "plt.title('model accuracy')\n",
        "plt.ylabel('accuracy')\n",
        "plt.xlabel('epoch')\n",
        "plt.legend(['train'], loc='upper left')\n",
        "plt.show()"
      ],
      "metadata": {
        "colab": {
          "base_uri": "https://localhost:8080/",
          "height": 472
        },
        "id": "2F3uuQ_-xEHG",
        "outputId": "c5f07cb4-9da9-4b5a-c21f-29e773ee3d62"
      },
      "execution_count": null,
      "outputs": [
        {
          "output_type": "display_data",
          "data": {
            "text/plain": [
              "<Figure size 640x480 with 1 Axes>"
            ],
            "image/png": "[encoded data removed]"
          },
          "metadata": {}
        }
      ]
    }
  ]
}